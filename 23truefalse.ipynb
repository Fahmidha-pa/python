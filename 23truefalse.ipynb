{
 "cells": [
  {
   "cell_type": "code",
   "execution_count": 2,
   "metadata": {},
   "outputs": [
    {
     "name": "stdout",
     "output_type": "stream",
     "text": [
      "Enter the numbers seperated by comma:2,4,5,6,2\n",
      "['2', '4', '5', '6', '2']\n",
      "true\n",
      "first and last numbers are same\n"
     ]
    }
   ],
   "source": [
    "l=input(\"Enter the numbers seperated by comma:\")\n",
    "p=l.split(\",\")\n",
    "print(p)\n",
    "if(p[0]==p[-1]):\n",
    "    print(\"true\")\n",
    "    print(\"first and last numbers are same\")\n",
    "else:\n",
    "    print(\"false\")\n",
    "    print(\"first and last numbers are not same\")\n",
    "    "
   ]
  },
  {
   "cell_type": "code",
   "execution_count": null,
   "metadata": {
    "collapsed": true
   },
   "outputs": [],
   "source": []
  }
 ],
 "metadata": {
  "kernelspec": {
   "display_name": "Python 3",
   "language": "python",
   "name": "python3"
  },
  "language_info": {
   "codemirror_mode": {
    "name": "ipython",
    "version": 3
   },
   "file_extension": ".py",
   "mimetype": "text/x-python",
   "name": "python",
   "nbconvert_exporter": "python",
   "pygments_lexer": "ipython3",
   "version": "3.6.3"
  }
 },
 "nbformat": 4,
 "nbformat_minor": 2
}
