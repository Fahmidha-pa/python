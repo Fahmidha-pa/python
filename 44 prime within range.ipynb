{
 "cells": [
  {
   "cell_type": "code",
   "execution_count": 6,
   "metadata": {},
   "outputs": [
    {
     "name": "stdout",
     "output_type": "stream",
     "text": [
      "Enter the lower range:2\n",
      "Enter upper range:40\n",
      "print prime number whithin range are:\n",
      "2 3 5 7 11 13 17 19 23 29 31 37 "
     ]
    }
   ],
   "source": [
    "#prime numbers whithin range\n",
    "start=int(input(\"Enter the lower range:\"))\n",
    "stop=int(input(\"Enter upper range:\"))\n",
    "print(\"print prime number whithin range are:\")\n",
    "for val in range(start,stop):\n",
    "    if(val>1):\n",
    "        for i in range(2,val):\n",
    "            if(val%i)==0:\n",
    "                break\n",
    "        else:\n",
    "            print(val,end=\" \")\n",
    "    \n",
    "            "
   ]
  },
  {
   "cell_type": "code",
   "execution_count": null,
   "metadata": {
    "collapsed": true
   },
   "outputs": [],
   "source": []
  }
 ],
 "metadata": {
  "kernelspec": {
   "display_name": "Python 3",
   "language": "python",
   "name": "python3"
  },
  "language_info": {
   "codemirror_mode": {
    "name": "ipython",
    "version": 3
   },
   "file_extension": ".py",
   "mimetype": "text/x-python",
   "name": "python",
   "nbconvert_exporter": "python",
   "pygments_lexer": "ipython3",
   "version": "3.6.3"
  }
 },
 "nbformat": 4,
 "nbformat_minor": 2
}
