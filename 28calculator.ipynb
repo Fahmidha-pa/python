{
 "cells": [
  {
   "cell_type": "code",
   "execution_count": 2,
   "metadata": {},
   "outputs": [
    {
     "name": "stdout",
     "output_type": "stream",
     "text": [
      "select the operations\n",
      "1.Add\n",
      "2.substact\n",
      "3.multiply\n",
      "4.division\n",
      "enter the first number:2\n",
      "enter the second number:5\n",
      "enter the choice:1\n",
      "Addition:7.00\n"
     ]
    }
   ],
   "source": [
    "print(\"select the operations\")\n",
    "print(\"1.Add\")\n",
    "print(\"2.substact\")\n",
    "print(\"3.multiply\")\n",
    "print(\"4.division\")\n",
    "num1=float(input(\"enter the first number:\"))\n",
    "num2=float(input(\"enter the second number:\"))\n",
    "choice=int(input(\"enter the choice:\"))\n",
    "if(choice==1):\n",
    "          print(\"Addition:%.2f\"%(num1+num2))\n",
    "elif(choice==2):\n",
    "         print(\"Substraction:%.2f\"%(num1-num2))\n",
    "elif(choice==3):\n",
    "         print(\"Multiplication:%.2f\"%(num1*num2))\n",
    "elif(choice==4):\n",
    "         print(\"Division:%.2f\"%(num1/num2))\n",
    "else:\n",
    "    print(\"invalid\")\n"
   ]
  },
  {
   "cell_type": "code",
   "execution_count": null,
   "metadata": {
    "collapsed": true
   },
   "outputs": [],
   "source": []
  },
  {
   "cell_type": "code",
   "execution_count": null,
   "metadata": {
    "collapsed": true
   },
   "outputs": [],
   "source": []
  }
 ],
 "metadata": {
  "kernelspec": {
   "display_name": "Python 3",
   "language": "python",
   "name": "python3"
  },
  "language_info": {
   "codemirror_mode": {
    "name": "ipython",
    "version": 3
   },
   "file_extension": ".py",
   "mimetype": "text/x-python",
   "name": "python",
   "nbconvert_exporter": "python",
   "pygments_lexer": "ipython3",
   "version": "3.6.3"
  }
 },
 "nbformat": 4,
 "nbformat_minor": 2
}
