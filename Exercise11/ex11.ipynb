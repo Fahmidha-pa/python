{
 "cells": [
  {
   "cell_type": "code",
   "execution_count": null,
   "metadata": {},
   "outputs": [
    {
     "name": "stdout",
     "output_type": "stream",
     "text": [
      "1.Rectangle\n",
      "2.Circle\n",
      "3.Cuboid\n",
      "4.Sphere\n",
      "5.Exit\n",
      "Enter your choice: 2\n",
      "Enter radius: 1\n",
      "Area of Circle:  3.14\n",
      "Perimeter of circle:  6.28\n",
      "1.Rectangle\n",
      "2.Circle\n",
      "3.Cuboid\n",
      "4.Sphere\n",
      "5.Exit\n",
      "Enter your choice: 3\n",
      "Enter length: 1\n",
      "Enter breadth: 4\n",
      "Enter height: 1\n",
      "Area of cuboid:  18\n",
      "Perimeter of cuboid:  24\n",
      "1.Rectangle\n",
      "2.Circle\n",
      "3.Cuboid\n",
      "4.Sphere\n",
      "5.Exit\n",
      "Enter your choice: 4\n",
      "Enter radius: 6\n",
      "Area of sphere:  226.07999999999998\n",
      "Perimeter of sphere:  452.16\n",
      "1.Rectangle\n",
      "2.Circle\n",
      "3.Cuboid\n",
      "4.Sphere\n",
      "5.Exit\n"
     ]
    }
   ],
   "source": [
    "from Graphics import rect\n",
    "from Graphics import circle\n",
    "from Graphics.Graphics3D import cuboid\n",
    "from Graphics.Graphics3D import sphere\n",
    "\n",
    "while(1):\n",
    "    print(\"1.Rectangle\\n2.Circle\\n3.Cuboid\\n4.Sphere\\n5.Exit\")\n",
    "    ch=int(input(\"Enter your choice: \"))\n",
    "    if ch==1:\n",
    "        l=int(input(\"Enter length: \"))\n",
    "        b=int(input(\"Enter breadth: \"))\n",
    "        rect.rectarea(l,b)\n",
    "        rect.rectperi(l,b)\n",
    "    elif ch==2:\n",
    "        r=int(input(\"Enter radius: \"))\n",
    "        circle.circlearea(r)\n",
    "        circle.circleperi(r)\n",
    "    elif ch==3:\n",
    "        l = int(input(\"Enter length: \"))\n",
    "        b = int(input(\"Enter breadth: \"))\n",
    "        h= int(input(\"Enter height: \"))\n",
    "        cuboid.cuboidarea(l,b,h)\n",
    "        cuboid.cuboidperi(l,b,h)\n",
    "    elif ch==4:\n",
    "        r=int(input(\"Enter radius: \"))\n",
    "        sphere.spherearea(r)\n",
    "        sphere.sphereperi(r)\n",
    "    else:\n",
    "        print(\"Exiting...\")\n",
    "        break"
   ]
  },
  {
   "cell_type": "code",
   "execution_count": null,
   "metadata": {},
   "outputs": [],
   "source": []
  }
 ],
 "metadata": {
  "kernelspec": {
   "display_name": "Python 3",
   "language": "python",
   "name": "python3"
  },
  "language_info": {
   "codemirror_mode": {
    "name": "ipython",
    "version": 3
   },
   "file_extension": ".py",
   "mimetype": "text/x-python",
   "name": "python",
   "nbconvert_exporter": "python",
   "pygments_lexer": "ipython3",
   "version": "3.7.11"
  }
 },
 "nbformat": 4,
 "nbformat_minor": 4
}
