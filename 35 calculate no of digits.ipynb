{
 "cells": [
  {
   "cell_type": "code",
   "execution_count": 3,
   "metadata": {},
   "outputs": [
    {
     "name": "stdout",
     "output_type": "stream",
     "text": [
      "Enter a string:abcdef1234\n",
      "The total letters in the string is: 6\n",
      "The total letters in the string is: 4\n"
     ]
    }
   ],
   "source": [
    "#calculate digits and numbers of the string\n",
    "a=(input(\"Enter a string:\"))\n",
    "d=0\n",
    "l=0\n",
    "for i in a:\n",
    "    if (i.isdigit()):\n",
    "        d=d+1\n",
    "    elif(i.isalpha()):\n",
    "            l=l+1\n",
    "print(\"The total letters in the string is: %d\"%l)\n",
    "print(\"The total letters in the string is: %d\"%d)\n",
    "            \n",
    "            \n",
    "    "
   ]
  },
  {
   "cell_type": "code",
   "execution_count": null,
   "metadata": {
    "collapsed": true
   },
   "outputs": [],
   "source": []
  }
 ],
 "metadata": {
  "kernelspec": {
   "display_name": "Python 3",
   "language": "python",
   "name": "python3"
  },
  "language_info": {
   "codemirror_mode": {
    "name": "ipython",
    "version": 3
   },
   "file_extension": ".py",
   "mimetype": "text/x-python",
   "name": "python",
   "nbconvert_exporter": "python",
   "pygments_lexer": "ipython3",
   "version": "3.6.3"
  }
 },
 "nbformat": 4,
 "nbformat_minor": 2
}
