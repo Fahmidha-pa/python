{
 "cells": [
  {
   "cell_type": "code",
   "execution_count": 1,
   "metadata": {},
   "outputs": [
    {
     "name": "stdout",
     "output_type": "stream",
     "text": [
      "Enter numbers with comma seperated:12,13,14,15,16,17\n",
      "positive integers of the list are: [12, 13, 14, 15, 16, 17]\n",
      "Square  of numbers in list are: [144, 169, 196, 225, 256, 289]\n",
      "Enter a word:FEMI\n",
      "Vowels in FEMI are ['E', 'I']\n",
      "Ordinal values of ['F', 'E', 'M', 'I'] are: [70, 69, 77, 73]\n"
     ]
    }
   ],
   "source": [
    "#List of positive numbers from\n",
    "num=input(\"Enter numbers with comma seperated:\").split(\",\")\n",
    "new=map(int,num)\n",
    "new1=[x for x in new if x>0]\n",
    "print(\"positive integers of the list are:\",new1)\n",
    "\n",
    "#square of n numbers\n",
    "new2=map(int,num)\n",
    "sqlist=[x**2 for x in new2]\n",
    "print(\"Square  of numbers in list are:\",sqlist)\n",
    " \n",
    "#list of vowels \n",
    "vw=input(\"Enter a word:\")\n",
    "vw1=[x for x in vw]\n",
    "vowel=[\"a\",\"e\",\"i\",\"o\",\"u\",\"A\",\"E\",\"I\",\"O\",\"U\"]\n",
    "vw2=[x for x in vw1 if x in vowel]\n",
    "print(\"Vowels in\",vw,\"are\",vw2)\n",
    "\n",
    "#ordinal values\n",
    "ordinal=[ord(x) for x in vw1]\n",
    "print(\"Ordinal values of\",vw1,\"are:\",ordinal)"
   ]
  },
  {
   "cell_type": "markdown",
   "metadata": {
    "collapsed": true
   },
   "source": []
  }
 ],
 "metadata": {
  "kernelspec": {
   "display_name": "Python 3",
   "language": "python",
   "name": "python3"
  },
  "language_info": {
   "codemirror_mode": {
    "name": "ipython",
    "version": 3
   },
   "file_extension": ".py",
   "mimetype": "text/x-python",
   "name": "python",
   "nbconvert_exporter": "python",
   "pygments_lexer": "ipython3",
   "version": "3.6.3"
  }
 },
 "nbformat": 4,
 "nbformat_minor": 2
}
