{
 "cells": [
  {
   "cell_type": "code",
   "execution_count": 1,
   "metadata": {},
   "outputs": [
    {
     "name": "stdout",
     "output_type": "stream",
     "text": [
      "enter principle amount:6000\n",
      "enter number of years:5\n",
      "enter rate of intrest:25\n",
      "simple intrest is 7500.0\n"
     ]
    }
   ],
   "source": [
    "p=int(input('enter principle amount:'))\n",
    "n=int(input('enter number of years:'))\n",
    "r=int(input('enter rate of intrest:'))\n",
    "intrest=(p*n*r)/100\n",
    "print('simple intrest is',intrest)"
   ]
  },
  {
   "cell_type": "code",
   "execution_count": null,
   "metadata": {
    "collapsed": true
   },
   "outputs": [],
   "source": []
  }
 ],
 "metadata": {
  "kernelspec": {
   "display_name": "Python 3",
   "language": "python",
   "name": "python3"
  },
  "language_info": {
   "codemirror_mode": {
    "name": "ipython",
    "version": 3
   },
   "file_extension": ".py",
   "mimetype": "text/x-python",
   "name": "python",
   "nbconvert_exporter": "python",
   "pygments_lexer": "ipython3",
   "version": "3.6.3"
  }
 },
 "nbformat": 4,
 "nbformat_minor": 2
}
