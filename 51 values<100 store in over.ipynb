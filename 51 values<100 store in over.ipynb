{
 "cells": [
  {
   "cell_type": "code",
   "execution_count": 3,
   "metadata": {},
   "outputs": [
    {
     "name": "stdout",
     "output_type": "stream",
     "text": [
      "Enter an integer(Enter 'stop' to stop):123\n",
      "Enter an integer(Enter 'stop' to stop):34\n",
      "Enter an integer(Enter 'stop' to stop):234\n",
      "Enter an integer(Enter 'stop' to stop):6\n",
      "Enter an integer(Enter 'stop' to stop):567\n",
      "Enter an integer(Enter 'stop' to stop):90\n",
      "Enter an integer(Enter 'stop' to stop):567\n",
      "Enter an integer(Enter 'stop' to stop):789\n",
      "Enter an integer(Enter 'stop' to stop):45\n",
      "Enter an integer(Enter 'stop' to stop):stop\n",
      "['over', 34, 'over', 6, 'over', 90, 'over', 'over', 45]\n"
     ]
    }
   ],
   "source": [
    "values=[]\n",
    "while True:\n",
    "    value = input(\"Enter an integer(Enter 'stop' to stop):\")\n",
    "    if value == 'stop':\n",
    "        break\n",
    "    elif int(value)>100:\n",
    "        values.append('over')\n",
    "    else:\n",
    "        values.append(int(value))\n",
    "print(values)"
   ]
  },
  {
   "cell_type": "code",
   "execution_count": null,
   "metadata": {
    "collapsed": true
   },
   "outputs": [],
   "source": []
  }
 ],
 "metadata": {
  "kernelspec": {
   "display_name": "Python 3",
   "language": "python",
   "name": "python3"
  },
  "language_info": {
   "codemirror_mode": {
    "name": "ipython",
    "version": 3
   },
   "file_extension": ".py",
   "mimetype": "text/x-python",
   "name": "python",
   "nbconvert_exporter": "python",
   "pygments_lexer": "ipython3",
   "version": "3.6.3"
  }
 },
 "nbformat": 4,
 "nbformat_minor": 2
}
