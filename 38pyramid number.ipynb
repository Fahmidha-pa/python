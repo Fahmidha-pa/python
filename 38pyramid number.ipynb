{
 "cells": [
  {
   "cell_type": "code",
   "execution_count": 3,
   "metadata": {},
   "outputs": [
    {
     "name": "stdout",
     "output_type": "stream",
     "text": [
      "Enter a number:5\n",
      "The pyramid is\n",
      "1  \n",
      "\n",
      "2  4  \n",
      "\n",
      "3  6  9  \n",
      "\n",
      "4  8  12  16  \n",
      "\n",
      "5  10  15  20  25  \n",
      "\n"
     ]
    }
   ],
   "source": [
    "#pyramid using numbers\n",
    "n=int(input(\"Enter a number:\"))\n",
    "print(\"The pyramid is\")\n",
    "for i in range(1,n+1):\n",
    "    for j in range(1,i+1):\n",
    "        print(i*j,end=\"  \")\n",
    "    print(\"\\n\")\n",
    "     "
   ]
  },
  {
   "cell_type": "code",
   "execution_count": null,
   "metadata": {
    "collapsed": true
   },
   "outputs": [],
   "source": []
  }
 ],
 "metadata": {
  "kernelspec": {
   "display_name": "Python 3",
   "language": "python",
   "name": "python3"
  },
  "language_info": {
   "codemirror_mode": {
    "name": "ipython",
    "version": 3
   },
   "file_extension": ".py",
   "mimetype": "text/x-python",
   "name": "python",
   "nbconvert_exporter": "python",
   "pygments_lexer": "ipython3",
   "version": "3.6.3"
  }
 },
 "nbformat": 4,
 "nbformat_minor": 2
}
