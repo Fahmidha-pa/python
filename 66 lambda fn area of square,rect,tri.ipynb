{
 "cells": [
  {
   "cell_type": "code",
   "execution_count": null,
   "metadata": {},
   "outputs": [
    {
     "name": "stdout",
     "output_type": "stream",
     "text": [
      "1.Square\n",
      "2.rectangle\n",
      "3.triangle\n",
      "4.exit\n",
      "enter your choice3\n",
      "enter base3\n",
      "enter height5\n",
      "area of triangle: 7.5\n",
      "1.Square\n",
      "2.rectangle\n",
      "3.triangle\n",
      "4.exit\n"
     ]
    }
   ],
   "source": [
    "sqr=lambda a:a*a\n",
    "rect=lambda l,b:l*b \n",
    "tri=lambda b,h:(b*h)/2 \n",
    "while(1): \n",
    "    print(\"1.Square\\n2.rectangle\\n3.triangle\\n4.exit\") \n",
    "    ch=int(input(\"enter your choice\")) \n",
    "    if(ch==1): \n",
    "        a=int(input(\"enter side\")) \n",
    "        print(\"area of square:\",sqr(a)) \n",
    "    elif(ch==2): \n",
    "        l=int(input(\"enter length\")) \n",
    "        b=int(input(\"enter breadth\")) \n",
    "        print(\"area of rectangle:\",rect(l,b)) \n",
    "    elif(ch==3): \n",
    "        b=int(input(\"enter base\")) \n",
    "        h=int(input(\"enter height\")) \n",
    "        print(\"area of triangle:\",tri(b,h)) \n",
    "        \n",
    "    else: \n",
    "        print(\"exiting...\") \n",
    "        break"
   ]
  },
  {
   "cell_type": "code",
   "execution_count": null,
   "metadata": {
    "collapsed": true
   },
   "outputs": [],
   "source": []
  }
 ],
 "metadata": {
  "kernelspec": {
   "display_name": "Python 3",
   "language": "python",
   "name": "python3"
  },
  "language_info": {
   "codemirror_mode": {
    "name": "ipython",
    "version": 3
   },
   "file_extension": ".py",
   "mimetype": "text/x-python",
   "name": "python",
   "nbconvert_exporter": "python",
   "pygments_lexer": "ipython3",
   "version": "3.6.3"
  }
 },
 "nbformat": 4,
 "nbformat_minor": 2
}
