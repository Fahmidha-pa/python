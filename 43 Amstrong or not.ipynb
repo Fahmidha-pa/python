{
 "cells": [
  {
   "cell_type": "code",
   "execution_count": 16,
   "metadata": {},
   "outputs": [
    {
     "name": "stdout",
     "output_type": "stream",
     "text": [
      "Enter a number:153\n",
      "153 is an Amstrong number\n"
     ]
    }
   ],
   "source": [
    "#check the number is amstrong or not \n",
    "a=input(\"Enter a number:\")\n",
    "result=0\n",
    "for i in range(len(a)):\n",
    "    b=int(a[i])\n",
    "    result=result+(b** int(len(a)))\n",
    "if result==int(a):\n",
    "     print(a,\"is an Amstrong number\")\n",
    "elif result!=int(a):\n",
    "     print(a,\"is not an Amstrong number\")\n",
    "                   "
   ]
  },
  {
   "cell_type": "code",
   "execution_count": null,
   "metadata": {
    "collapsed": true
   },
   "outputs": [],
   "source": []
  }
 ],
 "metadata": {
  "kernelspec": {
   "display_name": "Python 3",
   "language": "python",
   "name": "python3"
  },
  "language_info": {
   "codemirror_mode": {
    "name": "ipython",
    "version": 3
   },
   "file_extension": ".py",
   "mimetype": "text/x-python",
   "name": "python",
   "nbconvert_exporter": "python",
   "pygments_lexer": "ipython3",
   "version": "3.6.3"
  }
 },
 "nbformat": 4,
 "nbformat_minor": 2
}
