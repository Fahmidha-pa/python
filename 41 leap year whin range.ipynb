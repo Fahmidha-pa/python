{
 "cells": [
  {
   "cell_type": "code",
   "execution_count": 2,
   "metadata": {},
   "outputs": [
    {
     "name": "stdout",
     "output_type": "stream",
     "text": [
      "Enter starting year:2000\n",
      "Enter ending year:2020\n",
      "Leap yearS from 2000 to 2020 is:\n",
      "2000\n",
      "2004\n",
      "2008\n",
      "2012\n",
      "2016\n"
     ]
    }
   ],
   "source": [
    "#leap year within range\n",
    "s=int(input(\"Enter starting year:\"))\n",
    "e=int(input(\"Enter ending year:\"))\n",
    "print(\"Leap yearS from\",s,\"to\",e,\"is:\")\n",
    "for i in range(s,e):\n",
    "    if(0==i%4) and (0!=i%100) or (0==i%400):\n",
    "        print(i)\n"
   ]
  },
  {
   "cell_type": "code",
   "execution_count": null,
   "metadata": {
    "collapsed": true
   },
   "outputs": [],
   "source": []
  }
 ],
 "metadata": {
  "kernelspec": {
   "display_name": "Python 3",
   "language": "python",
   "name": "python3"
  },
  "language_info": {
   "codemirror_mode": {
    "name": "ipython",
    "version": 3
   },
   "file_extension": ".py",
   "mimetype": "text/x-python",
   "name": "python",
   "nbconvert_exporter": "python",
   "pygments_lexer": "ipython3",
   "version": "3.6.3"
  }
 },
 "nbformat": 4,
 "nbformat_minor": 2
}
