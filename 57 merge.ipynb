{
 "cells": [
  {
   "cell_type": "code",
   "execution_count": 1,
   "metadata": {},
   "outputs": [
    {
     "name": "stdout",
     "output_type": "stream",
     "text": [
      "Dictionary 1=: {1: 'apple', 2: 'banana', 3: 'orange'}\n",
      "Dictionary 2=: {4: 'kiwi', 5: 'mango', 6: 'grapes'}\n",
      "The merged dictionary is:\n",
      "{1: 'apple', 2: 'banana', 3: 'orange', 4: 'kiwi', 5: 'mango', 6: 'grapes'}\n"
     ]
    }
   ],
   "source": [
    "#merge two dictionaries\n",
    "d1={1:\"apple\",2:\"banana\",3:\"orange\"} \n",
    "d2={4:'kiwi',5:'mango',6:'grapes'}\n",
    "print(\"Dictionary 1=:\",d1)\n",
    "print(\"Dictionary 2=:\",d2)\n",
    "d1.update(d2)\n",
    "print(\"The merged dictionary is:\")\n",
    "print(d1)\n",
    "\n",
    "\n"
   ]
  },
  {
   "cell_type": "code",
   "execution_count": null,
   "metadata": {
    "collapsed": true
   },
   "outputs": [],
   "source": []
  }
 ],
 "metadata": {
  "kernelspec": {
   "display_name": "Python 3",
   "language": "python",
   "name": "python3"
  },
  "language_info": {
   "codemirror_mode": {
    "name": "ipython",
    "version": 3
   },
   "file_extension": ".py",
   "mimetype": "text/x-python",
   "name": "python",
   "nbconvert_exporter": "python",
   "pygments_lexer": "ipython3",
   "version": "3.6.3"
  }
 },
 "nbformat": 4,
 "nbformat_minor": 2
}
