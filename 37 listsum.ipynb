{
 "cells": [
  {
   "cell_type": "code",
   "execution_count": 2,
   "metadata": {},
   "outputs": [
    {
     "name": "stdout",
     "output_type": "stream",
     "text": [
      "How many numbers:3\n",
      "Enter the numbers:10\n",
      "Enter the numbers:40\n",
      "Enter the numbers:50\n",
      "Sum of elements in the list: 100\n"
     ]
    }
   ],
   "source": [
    "list=[]\n",
    "n=int(input(\"How many numbers:\"))\n",
    "for i in range(n):\n",
    "    numbers=int(input(\"Enter the numbers:\"))\n",
    "    list.append(numbers)\n",
    "print(\"Sum of elements in the list:\",sum(list))"
   ]
  },
  {
   "cell_type": "code",
   "execution_count": null,
   "metadata": {
    "collapsed": true
   },
   "outputs": [],
   "source": []
  }
 ],
 "metadata": {
  "kernelspec": {
   "display_name": "Python 3",
   "language": "python",
   "name": "python3"
  },
  "language_info": {
   "codemirror_mode": {
    "name": "ipython",
    "version": 3
   },
   "file_extension": ".py",
   "mimetype": "text/x-python",
   "name": "python",
   "nbconvert_exporter": "python",
   "pygments_lexer": "ipython3",
   "version": "3.6.3"
  }
 },
 "nbformat": 4,
 "nbformat_minor": 2
}
