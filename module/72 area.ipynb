{
 "cells": [
  {
   "cell_type": "code",
   "execution_count": null,
   "metadata": {},
   "outputs": [
    {
     "name": "stdout",
     "output_type": "stream",
     "text": [
      "1.rectangle\n",
      "2.circle\n",
      "3.exit\n",
      "enter your choice:1\n",
      "enter length:8\n",
      "enter breadthth:4\n",
      "Area of rectangle: 32\n",
      "perimeter of rectangle: 24\n",
      "1.rectangle\n",
      "2.circle\n",
      "3.exit\n",
      "enter your choice:2\n",
      "enter radius:4\n",
      "Area of circle: 50.24\n",
      "perimeter of circle: 25.12\n",
      "1.rectangle\n",
      "2.circle\n",
      "3.exit\n"
     ]
    }
   ],
   "source": [
    "import rect\n",
    "import circle\n",
    "while(1):\n",
    "    print(\"1.rectangle\\n2.circle\\n3.exit\")\n",
    "    ch=int(input(\"enter your choice:\"))\n",
    "    if(ch==1):\n",
    "        l=int(input(\"enter length:\"))\n",
    "        b=int(input(\"enter breadthth:\"))\n",
    "        rect.rectarea(l,b)\n",
    "        rect.rectperi(l,b)\n",
    "    elif(ch==2):\n",
    "        r=int(input(\"enter radius:\"))\n",
    "        circle.circlearea(r)\n",
    "        circle.circleperi(r)\n",
    "    else:\n",
    "        print(\"exiting....\")\n",
    "        break\n",
    "        "
   ]
  },
  {
   "cell_type": "code",
   "execution_count": null,
   "metadata": {
    "collapsed": true
   },
   "outputs": [],
   "source": []
  }
 ],
 "metadata": {
  "kernelspec": {
   "display_name": "Python 3",
   "language": "python",
   "name": "python3"
  },
  "language_info": {
   "codemirror_mode": {
    "name": "ipython",
    "version": 3
   },
   "file_extension": ".py",
   "mimetype": "text/x-python",
   "name": "python",
   "nbconvert_exporter": "python",
   "pygments_lexer": "ipython3",
   "version": "3.6.3"
  }
 },
 "nbformat": 4,
 "nbformat_minor": 2
}
