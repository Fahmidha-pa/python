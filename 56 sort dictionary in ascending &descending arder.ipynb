{
 "cells": [
  {
   "cell_type": "code",
   "execution_count": 4,
   "metadata": {},
   "outputs": [
    {
     "name": "stdout",
     "output_type": "stream",
     "text": [
      "Dictionary {'femi': 1, 'nili': 2, 'aali': 3, 'kuttu': 4}\n",
      "Dictionary in ascending order is: {'aali': 3, 'femi': 1, 'kuttu': 4, 'nili': 2}\n",
      "Descending order is: {'nili': 2, 'kuttu': 4, 'femi': 1, 'aali': 3}\n"
     ]
    }
   ],
   "source": [
    "#sorting in in ascending and descending\n",
    "dic={'femi':1,'nili':2,'aali':3,'kuttu':4}\n",
    "print(\"Dictionary\",dic)\n",
    "items=list(dic.items())\n",
    "items.sort()\n",
    "dic=dict(items)           \n",
    "print('Dictionary in ascending order is:',dic)\n",
    "items=list(dic.items())\n",
    "items.reverse()\n",
    "dic=dict(items)\n",
    "print('Descending order is:',dic)\n",
    "\n"
   ]
  },
  {
   "cell_type": "code",
   "execution_count": null,
   "metadata": {
    "collapsed": true
   },
   "outputs": [],
   "source": []
  }
 ],
 "metadata": {
  "kernelspec": {
   "display_name": "Python 3",
   "language": "python",
   "name": "python3"
  },
  "language_info": {
   "codemirror_mode": {
    "name": "ipython",
    "version": 3
   },
   "file_extension": ".py",
   "mimetype": "text/x-python",
   "name": "python",
   "nbconvert_exporter": "python",
   "pygments_lexer": "ipython3",
   "version": "3.6.3"
  }
 },
 "nbformat": 4,
 "nbformat_minor": 2
}
