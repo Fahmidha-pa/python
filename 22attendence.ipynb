{
 "cells": [
  {
   "cell_type": "code",
   "execution_count": 15,
   "metadata": {},
   "outputs": [
    {
     "name": "stdout",
     "output_type": "stream",
     "text": [
      "number of classes held:34\n",
      "number of classes of classes attended:23\n",
      "percentage is 67.65 \n",
      "student will not be allowed to sit\n"
     ]
    }
   ],
   "source": [
    "a=int(input(\"number of classes held:\"))\n",
    "b=int(input(\"number of classes of classes attended:\"))\n",
    "p=(b/a)*100\n",
    "print(\"percentage is %.2f \"%p)\n",
    "if(p>75):\n",
    "    print(\"student will allowed to sit\")\n",
    "else:\n",
    "    print(\"student will not be allowed to sit\")\n",
    "\n"
   ]
  },
  {
   "cell_type": "code",
   "execution_count": null,
   "metadata": {
    "collapsed": true
   },
   "outputs": [],
   "source": []
  }
 ],
 "metadata": {
  "kernelspec": {
   "display_name": "Python 3",
   "language": "python",
   "name": "python3"
  },
  "language_info": {
   "codemirror_mode": {
    "name": "ipython",
    "version": 3
   },
   "file_extension": ".py",
   "mimetype": "text/x-python",
   "name": "python",
   "nbconvert_exporter": "python",
   "pygments_lexer": "ipython3",
   "version": "3.6.3"
  }
 },
 "nbformat": 4,
 "nbformat_minor": 2
}
